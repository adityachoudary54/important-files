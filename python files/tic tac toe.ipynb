{
 "cells": [
  {
   "cell_type": "code",
   "execution_count": 1,
   "metadata": {},
   "outputs": [],
   "source": [
    "tic_tac=[' 7 | 8 | 9 ','-----------',' 4 | 5 | 6 ','-----------',' 1 | 2 | 3 ']"
   ]
  },
  {
   "cell_type": "code",
   "execution_count": 2,
   "metadata": {},
   "outputs": [
    {
     "name": "stdout",
     "output_type": "stream",
     "text": [
      " 7 | 8 | 9 \n",
      "-----------\n",
      " 4 | 5 | 6 \n",
      "-----------\n",
      " 1 | 2 | 3 \n",
      "{'7': [0, 1], '8': [0, 5], '9': [0, 9], '1': [4, 1], '2': [4, 5], '3': [4, 9], '4': [2, 1], '5': [2, 5], '6': [2, 9]}\n"
     ]
    }
   ],
   "source": [
    "dic={'7':[0,0],'8':[0,0],'9':[0,0],'1':[0,0],'2':[0,0],'3':[0,0],'4':[0,0],'5':[0,0],'6':[0,0]}\n",
    "for item in tic_tac:\n",
    "    print(item)\n",
    "i=0\n",
    "#print(tic_tac[0][1])\n",
    "tupler=list(dic.keys())\n",
    "# initialization of dictionary\n",
    "while(i<5):\n",
    "    j=0\n",
    "    while(j<len(tic_tac[0])):\n",
    "       # print(\"{} {}\".format(i,j))\n",
    "        if tic_tac[i][j] in tupler:\n",
    "            dic[tic_tac[i][j]]=[i,j]\n",
    "        j+=1\n",
    "    i+=1\n",
    "print(dic)"
   ]
  },
  {
   "cell_type": "code",
   "execution_count": 3,
   "metadata": {},
   "outputs": [],
   "source": [
    "def check_win(tic_tac,cross):\n",
    "    if cross == tic_tac[0][1] and cross == tic_tac[2][5] and cross == tic_tac[4][9]:\n",
    "        return True\n",
    "    elif cross==tic_tac[0][9] and cross == tic_tac[2][5] and cross == tic_tac[4][1]:\n",
    "        return True\n",
    "    i=1\n",
    "    while(i<len(tic_tac[0])):\n",
    "        if(cross == tic_tac[0][i] and cross == tic_tac[2][i] and cross == tic_tac[4][i]):\n",
    "            return True\n",
    "        i+=4\n",
    "    i=0\n",
    "    while(i<5):\n",
    "        if(cross == tic_tac[i][1] and cross == tic_tac[i][5] and cross == tic_tac[i][9]):\n",
    "            return True\n",
    "        i+=2\n",
    "    return False"
   ]
  },
  {
   "cell_type": "code",
   "execution_count": 4,
   "metadata": {},
   "outputs": [],
   "source": [
    "def gameplay():\n",
    "    tic_tac=[' 7 | 8 | 9 ','-----------',' 4 | 5 | 6 ','-----------',' 1 | 2 | 3 ']\n",
    "    dic={'7':[0,0],'8':[0,0],'9':[0,0],'1':[0,0],'2':[0,0],'3':[0,0],'4':[0,0],'5':[0,0],'6':[0,0]}\n",
    "    i=0\n",
    "    #print(tic_tac[0][1])\n",
    "    tupler=list(dic.keys())\n",
    "    # initialization of dictionary\n",
    "    while(i<5):\n",
    "        j=0\n",
    "        while(j<len(tic_tac[0])):\n",
    "           # print(\"{} {}\".format(i,j))\n",
    "            if tic_tac[i][j] in tupler:\n",
    "                dic[tic_tac[i][j]]=[i,j]\n",
    "            j+=1\n",
    "        i+=1\n",
    "    ch='yes'\n",
    "    val=1\n",
    "    ch=input(\"do u want to play the game(yes/no)?:\")\n",
    "    decider=0\n",
    "    if ch.lower()=='yes':\n",
    "        while(val<=9):\n",
    "            for item in tic_tac:\n",
    "                print(item)\n",
    "            pos=input(\"player {} enter the position at which u want to enter:\".format(val%2))\n",
    "            if val==1:\n",
    "                cross=input(\"Enter what u like to enter(O/X):\")\n",
    "            else:\n",
    "                if(cross=='X'):\n",
    "                    cross='O'\n",
    "                else:\n",
    "                    cross='X'\n",
    "            tic_tac[dic[pos][0]]=tic_tac[dic[pos][0]][0:dic[pos][1]]+cross+tic_tac[dic[pos][0]][dic[pos][1]+1:]\n",
    "            decide=check_win(tic_tac,cross)\n",
    "            if decide == True:\n",
    "                print(\"player {} has won the game\".format(val%2))\n",
    "                decider=1\n",
    "                break\n",
    "            val+=1\n",
    "    else:\n",
    "        print(\"exit\")\n",
    "    if decider==0:\n",
    "        print('nobody won the game')\n",
    "    for item in tic_tac:\n",
    "                print(item)\n",
    "        "
   ]
  },
  {
   "cell_type": "code",
   "execution_count": 5,
   "metadata": {},
   "outputs": [
    {
     "name": "stdout",
     "output_type": "stream",
     "text": [
      "do u want to play the game(yes/no)?:yes\n",
      " 7 | 8 | 9 \n",
      "-----------\n",
      " 4 | 5 | 6 \n",
      "-----------\n",
      " 1 | 2 | 3 \n",
      "player 1 enter the position at which u want to enter:7\n",
      "Enter what u like to enter(O/X):O\n",
      " O | 8 | 9 \n",
      "-----------\n",
      " 4 | 5 | 6 \n",
      "-----------\n",
      " 1 | 2 | 3 \n",
      "player 0 enter the position at which u want to enter:5\n",
      " O | 8 | 9 \n",
      "-----------\n",
      " 4 | X | 6 \n",
      "-----------\n",
      " 1 | 2 | 3 \n",
      "player 1 enter the position at which u want to enter:4\n",
      " O | 8 | 9 \n",
      "-----------\n",
      " O | X | 6 \n",
      "-----------\n",
      " 1 | 2 | 3 \n",
      "player 0 enter the position at which u want to enter:1\n",
      " O | 8 | 9 \n",
      "-----------\n",
      " O | X | 6 \n",
      "-----------\n",
      " X | 2 | 3 \n",
      "player 1 enter the position at which u want to enter:9\n",
      " O | 8 | O \n",
      "-----------\n",
      " O | X | 6 \n",
      "-----------\n",
      " X | 2 | 3 \n",
      "player 0 enter the position at which u want to enter:8\n",
      " O | X | O \n",
      "-----------\n",
      " O | X | 6 \n",
      "-----------\n",
      " X | 2 | 3 \n",
      "player 1 enter the position at which u want to enter:2\n",
      " O | X | O \n",
      "-----------\n",
      " O | X | 6 \n",
      "-----------\n",
      " X | O | 3 \n",
      "player 0 enter the position at which u want to enter:3\n",
      " O | X | O \n",
      "-----------\n",
      " O | X | 6 \n",
      "-----------\n",
      " X | O | X \n",
      "player 1 enter the position at which u want to enter:6\n",
      "nobody won the game\n",
      " O | X | O \n",
      "-----------\n",
      " O | X | O \n",
      "-----------\n",
      " X | O | X \n"
     ]
    }
   ],
   "source": [
    "gameplay()"
   ]
  },
  {
   "cell_type": "code",
   "execution_count": null,
   "metadata": {},
   "outputs": [],
   "source": []
  }
 ],
 "metadata": {
  "kernelspec": {
   "display_name": "Python 3",
   "language": "python",
   "name": "python3"
  },
  "language_info": {
   "codemirror_mode": {
    "name": "ipython",
    "version": 3
   },
   "file_extension": ".py",
   "mimetype": "text/x-python",
   "name": "python",
   "nbconvert_exporter": "python",
   "pygments_lexer": "ipython3",
   "version": "3.6.4"
  }
 },
 "nbformat": 4,
 "nbformat_minor": 2
}
