{
 "cells": [
  {
   "cell_type": "code",
   "execution_count": null,
   "metadata": {},
   "outputs": [],
   "source": [
    "from random import randint\n",
    "var=randint(1,101)\n",
    "print(var)\n",
    "player_int=int(input(\"Enter ur guess:\"))\n",
    "count=1\n",
    "if player_int==var:\n",
    "    print(\"u have correctly guessed the number in {} guesses\".format(count))\n",
    "else:\n",
    "    while(player_int!=var):\n",
    "        prevguess=player_int\n",
    "        if count!=1:\n",
    "            player_int=int(input(\"Enter ur guess:\"))\n",
    "        if(player_int<1 or player_int>100):\n",
    "            print(\"Out of bounds\")\n",
    "        if count==1:\n",
    "            if ((var+10>=player_int and var<=player_int) or (var>=player_int and var-10<=player_int)):\n",
    "                print(\"warm\")\n",
    "            else:\n",
    "                print(\"cold\")\n",
    "        else:\n",
    "            if player_int>var:\n",
    "                if prevguess>var:\n",
    "                    if (player_int-var) > (prevguess-var):\n",
    "                        print(\"colder\")\n",
    "                    else:\n",
    "                        print(\"warmer\")\n",
    "                else:\n",
    "                    if (player_int-var)>(var-prevguess):\n",
    "                        print(\"colder\")\n",
    "                    else:\n",
    "                        print(\"warmer\")\n",
    "            else:\n",
    "                if prevguess>var:\n",
    "                    if (var-player_int)>(prevguess-var):\n",
    "                        print(\"colder\")\n",
    "                    else:\n",
    "                        print(\"warmer\")\n",
    "                else:\n",
    "                    if (var-player_int)>(var-prevguess):\n",
    "                        print(\"colder\")\n",
    "                    else:\n",
    "                        print(\"warmer\")\n",
    "        count+=1\n",
    "    print(\"u have correctly guessed the number in {} guesses\".format(count))\n",
    "        "
   ]
  },
  {
   "cell_type": "code",
   "execution_count": null,
   "metadata": {},
   "outputs": [],
   "source": []
  }
 ],
 "metadata": {
  "kernelspec": {
   "display_name": "Python 3",
   "language": "python",
   "name": "python3"
  },
  "language_info": {
   "codemirror_mode": {
    "name": "ipython",
    "version": 3
   },
   "file_extension": ".py",
   "mimetype": "text/x-python",
   "name": "python",
   "nbconvert_exporter": "python",
   "pygments_lexer": "ipython3",
   "version": "3.6.4"
  }
 },
 "nbformat": 4,
 "nbformat_minor": 2
}
